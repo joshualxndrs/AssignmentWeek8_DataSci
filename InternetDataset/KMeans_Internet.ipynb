{
 "cells": [
  {
   "cell_type": "code",
   "execution_count": 72,
   "metadata": {},
   "outputs": [],
   "source": [
    "import pandas as pd\n",
    "import matplotlib.pyplot as plt\n",
    "from sklearn.datasets import make_blobs\n",
    "from sklearn.cluster import KMeans\n",
    "import numpy\n",
    "\n"
   ]
  },
  {
   "cell_type": "code",
   "execution_count": 39,
   "metadata": {},
   "outputs": [
    {
     "data": {
      "text/html": [
       "<div>\n",
       "<style scoped>\n",
       "    .dataframe tbody tr th:only-of-type {\n",
       "        vertical-align: middle;\n",
       "    }\n",
       "\n",
       "    .dataframe tbody tr th {\n",
       "        vertical-align: top;\n",
       "    }\n",
       "\n",
       "    .dataframe thead th {\n",
       "        text-align: right;\n",
       "    }\n",
       "</style>\n",
       "<table border=\"1\" class=\"dataframe\">\n",
       "  <thead>\n",
       "    <tr style=\"text-align: right;\">\n",
       "      <th></th>\n",
       "      <th>country</th>\n",
       "      <th>incomeperperson</th>\n",
       "      <th>internetuserate</th>\n",
       "      <th>urbanrate</th>\n",
       "    </tr>\n",
       "  </thead>\n",
       "  <tbody>\n",
       "    <tr>\n",
       "      <th>1</th>\n",
       "      <td>Albania</td>\n",
       "      <td>1914.996551</td>\n",
       "      <td>44.989947</td>\n",
       "      <td>46.72</td>\n",
       "    </tr>\n",
       "    <tr>\n",
       "      <th>2</th>\n",
       "      <td>Algeria</td>\n",
       "      <td>2231.993335</td>\n",
       "      <td>12.500073</td>\n",
       "      <td>65.22</td>\n",
       "    </tr>\n",
       "    <tr>\n",
       "      <th>3</th>\n",
       "      <td>Andorra</td>\n",
       "      <td>21943.339900</td>\n",
       "      <td>81.000000</td>\n",
       "      <td>88.92</td>\n",
       "    </tr>\n",
       "    <tr>\n",
       "      <th>4</th>\n",
       "      <td>Angola</td>\n",
       "      <td>1381.004268</td>\n",
       "      <td>9.999954</td>\n",
       "      <td>56.70</td>\n",
       "    </tr>\n",
       "    <tr>\n",
       "      <th>5</th>\n",
       "      <td>Antigua and Barbuda</td>\n",
       "      <td>11894.464070</td>\n",
       "      <td>80.645455</td>\n",
       "      <td>30.46</td>\n",
       "    </tr>\n",
       "    <tr>\n",
       "      <th>...</th>\n",
       "      <td>...</td>\n",
       "      <td>...</td>\n",
       "      <td>...</td>\n",
       "      <td>...</td>\n",
       "    </tr>\n",
       "    <tr>\n",
       "      <th>207</th>\n",
       "      <td>Venezuela</td>\n",
       "      <td>5528.363114</td>\n",
       "      <td>35.850437</td>\n",
       "      <td>93.32</td>\n",
       "    </tr>\n",
       "    <tr>\n",
       "      <th>208</th>\n",
       "      <td>Vietnam</td>\n",
       "      <td>722.807559</td>\n",
       "      <td>27.851822</td>\n",
       "      <td>27.84</td>\n",
       "    </tr>\n",
       "    <tr>\n",
       "      <th>210</th>\n",
       "      <td>Yemen, Rep.</td>\n",
       "      <td>610.357367</td>\n",
       "      <td>12.349750</td>\n",
       "      <td>30.64</td>\n",
       "    </tr>\n",
       "    <tr>\n",
       "      <th>211</th>\n",
       "      <td>Zambia</td>\n",
       "      <td>432.226337</td>\n",
       "      <td>10.124986</td>\n",
       "      <td>35.42</td>\n",
       "    </tr>\n",
       "    <tr>\n",
       "      <th>212</th>\n",
       "      <td>Zimbabwe</td>\n",
       "      <td>320.771890</td>\n",
       "      <td>11.500415</td>\n",
       "      <td>37.34</td>\n",
       "    </tr>\n",
       "  </tbody>\n",
       "</table>\n",
       "<p>182 rows × 4 columns</p>\n",
       "</div>"
      ],
      "text/plain": [
       "                 country  incomeperperson  internetuserate  urbanrate\n",
       "1                Albania      1914.996551        44.989947      46.72\n",
       "2                Algeria      2231.993335        12.500073      65.22\n",
       "3                Andorra     21943.339900        81.000000      88.92\n",
       "4                 Angola      1381.004268         9.999954      56.70\n",
       "5    Antigua and Barbuda     11894.464070        80.645455      30.46\n",
       "..                   ...              ...              ...        ...\n",
       "207            Venezuela      5528.363114        35.850437      93.32\n",
       "208              Vietnam       722.807559        27.851822      27.84\n",
       "210          Yemen, Rep.       610.357367        12.349750      30.64\n",
       "211               Zambia       432.226337        10.124986      35.42\n",
       "212             Zimbabwe       320.771890        11.500415      37.34\n",
       "\n",
       "[182 rows x 4 columns]"
      ]
     },
     "execution_count": 39,
     "metadata": {},
     "output_type": "execute_result"
    }
   ],
   "source": [
    "df = pd.read_csv('gapminder_internet.csv')\n",
    "df = df.dropna()\n",
    "df.head(214)"
   ]
  },
  {
   "cell_type": "code",
   "execution_count": 33,
   "metadata": {},
   "outputs": [],
   "source": [
    "# plt.scatter(df['incomeperperson'],df['internetuserate'])\n",
    "\n",
    "# X = df['incomeperperson']\n",
    "# Y = df['internetuserate']"
   ]
  },
  {
   "cell_type": "code",
   "execution_count": 73,
   "metadata": {},
   "outputs": [
    {
     "name": "stdout",
     "output_type": "stream",
     "text": [
      "44.98994696\n"
     ]
    }
   ],
   "source": [
    "x = df.iloc[:,[1,2]]\n",
    "x = x.values.tolist()\n",
    "x = numpy.array(x)\n",
    "print(x[0][1])"
   ]
  },
  {
   "cell_type": "code",
   "execution_count": 74,
   "metadata": {},
   "outputs": [
    {
     "name": "stdout",
     "output_type": "stream",
     "text": [
      "[ 1914.996551   2231.993335   1381.004268  11894.46407   10749.41924\n",
      "  1326.741757   2344.896916  12505.21254     558.0628766  9243.587053\n",
      "  2737.670379   3545.652174    377.0396995  1324.194906   1232.794137\n",
      "  2183.344867   4189.436587   4699.411262  17092.46       2549.558474\n",
      "   276.200413    115.3059959   557.9475126   713.6393027  1959.844472\n",
      "   239.5187494   275.8842865  6334.105194   2425.471293   3233.42378\n",
      "   336.3687495   103.7758572  1253.292015   5188.900935    591.0679443\n",
      "  6338.494668   4495.046262  15313.85935    7381.312751    895.3183396\n",
      "  6147.77961    4049.169629   1728.020976   1975.551906   2557.433638\n",
      "  8654.536845    131.796207   6238.537506    220.8912479  2230.676374\n",
      "  4180.765821    354.5997263  1258.762596    358.9795398 13577.87989\n",
      "  5330.401612   1860.753895    411.5014473   161.3171371  1200.652075\n",
      "   371.4241975  1392.411829   5634.003948    786.7000981  1143.831514\n",
      "  2161.54651     736.2680538  3665.348369   2534.00038    2481.718918\n",
      "   468.6960436   760.262365  16372.49978     372.728414    554.8798401\n",
      "  5011.219456   6746.612632    495.7342469   155.0332312  7885.468037\n",
      "  5332.238591   2221.185664    242.6775342   184.1417966  5184.709328\n",
      "  4038.857818    269.8928811 11066.78414     609.1312059  5182.143721\n",
      "  6105.280743   2146.358593    595.8745345   772.9333448  2222.335052\n",
      "  1844.351028    389.7636343  2667.24671     268.2594495 14778.16393\n",
      "   948.355952    180.083376    544.5994767 11191.81101     668.547943\n",
      "  5900.616944    744.2394132  1621.177078   3180.430612   1383.401869\n",
      "  6575.745044  11744.83417   15822.11214    2636.7878     2923.144355\n",
      "   338.2663912  9175.796015   5248.582321   1784.071284   9425.32587\n",
      "   561.7085848  1194.711433   8614.120219   8445.526689  12729.4544\n",
      "  1144.102193   3745.649852  15461.75837    1295.742686   2668.020519\n",
      "  1810.230533   1525.780116    279.1804526   456.3857117  2712.517199\n",
      "   369.5729537   285.2244493  2025.282665  10480.8172     3164.927693\n",
      "  5348.597192   2062.125152    377.4211133  1036.830725   9106.327234\n",
      "   952.8272608  1543.956457   5528.363114    722.8075588   610.3573673\n",
      "   432.226337    320.7718899]\n"
     ]
    }
   ],
   "source": [
    "km = KMeans (n_clusters= 2,\n",
    "init = 'random', n_init= 10, \n",
    "max_iter= 300, tol= 0.01, random_state=0 \n",
    ")\n",
    "y_km = km.fit_predict(x)\n",
    "# print(y_km)\n",
    "# print(x[True])\n",
    "# print(x[False])\n",
    "# print(x[0])\n",
    "print(x[y_km == 0,0])"
   ]
  },
  {
   "cell_type": "code",
   "execution_count": 75,
   "metadata": {},
   "outputs": [
    {
     "data": {
      "text/plain": [
       "<matplotlib.collections.PathCollection at 0x22aff4a7fa0>"
      ]
     },
     "execution_count": 75,
     "metadata": {},
     "output_type": "execute_result"
    },
    {
     "data": {
      "image/png": "[encoded data removed]",
      "text/plain": [
       "<Figure size 640x480 with 1 Axes>"
      ]
     },
     "metadata": {},
     "output_type": "display_data"
    }
   ],
   "source": [
    "plt.scatter(\n",
    "    x[y_km == 0, 0], x[y_km == 0, 1],\n",
    "    s=50, c='lightgreen',\n",
    "    marker='v', edgecolor='black',\n",
    "    label='c1'\n",
    ")\n",
    "\n",
    "plt.scatter(\n",
    "    x[y_km == 1, 0], x[y_km == 1, 1],\n",
    "    s=50, c='blue',\n",
    "    marker='o', edgecolor='black',\n",
    "    label='c2'\n",
    ")\n",
    "\n",
    "plt.scatter(\n",
    "    km.cluster_centers_[:, 0], km.cluster_centers_[:, 1],\n",
    "    s=350, marker='*',\n",
    "    c='red', edgecolor='black',\n",
    "    label='centroids'\n",
    ")\n",
    "\n",
    "# plt.scatter(\n",
    "#     X.iloc[5:7,0], X.iloc[5:7,1],\n",
    "#     s=50, c='lightgreen',\n",
    "#     marker='v', edgecolor='black',\n",
    "#     label='c1'\n",
    "# )\n",
    "\n",
    "# plt.scatter(\n",
    "#     X.iloc[2:5,0], X.iloc[2:5,1],\n",
    "#     s=50, c='red',\n",
    "#     marker='s', edgecolor='black',\n",
    "#     label='c2'\n",
    "# )\n",
    "\n",
    "# plt.scatter(\n",
    "#     X.iloc[[0,1,7],0], X.iloc[[0,1,7],1],\n",
    "#     s=50, c='yellow',\n",
    "#     marker='o', edgecolor='black',\n",
    "#     label='c3'\n",
    "# )\n",
    "\n",
    "# plt.scatter(\n",
    "#     km.cluster_centers_[:, 0], km.cluster_centers_[:, 1],\n",
    "#     s=250, marker='*',\n",
    "#     c='red', edgecolor='black',\n",
    "#     label='centroids'\n",
    "# )\n"
   ]
  }
 ],
 "metadata": {
  "kernelspec": {
   "display_name": "Python 3.10.0 64-bit",
   "language": "python",
   "name": "python3"
  },
  "language_info": {
   "codemirror_mode": {
    "name": "ipython",
    "version": 3
   },
   "file_extension": ".py",
   "mimetype": "text/x-python",
   "name": "python",
   "nbconvert_exporter": "python",
   "pygments_lexer": "ipython3",
   "version": "3.10.0"
  },
  "orig_nbformat": 4,
  "vscode": {
   "interpreter": {
    "hash": "101f7e2ed91d453f34055d756963b0442a5489d3188db837ea15fcde47443f0b"
   }
  }
 },
 "nbformat": 4,
 "nbformat_minor": 2
}
